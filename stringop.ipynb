{
  "nbformat": 4,
  "nbformat_minor": 0,
  "metadata": {
    "colab": {
      "name": "stringop.ipynb",
      "provenance": [],
      "collapsed_sections": []
    },
    "kernelspec": {
      "name": "python3",
      "display_name": "Python 3"
    }
  },
  "cells": [
    {
      "cell_type": "code",
      "metadata": {
        "id": "bfjZo204fryo",
        "colab_type": "code",
        "colab": {
          "base_uri": "https://localhost:8080/",
          "height": 34
        },
        "outputId": "1b9a1ec5-98e5-46e2-8c61-8368bf9b1e22"
      },
      "source": [
        "txt = \"hello,how are you?\"\n",
        "x = txt.capitalize()\n",
        "print (x)\n"
      ],
      "execution_count": 54,
      "outputs": [
        {
          "output_type": "stream",
          "text": [
            "Hello,how are you?\n"
          ],
          "name": "stdout"
        }
      ]
    },
    {
      "cell_type": "code",
      "metadata": {
        "id": "Qn2hjy8xgHE7",
        "colab_type": "code",
        "colab": {
          "base_uri": "https://localhost:8080/",
          "height": 34
        },
        "outputId": "c5848ea5-bd70-4da9-d0f1-22fd768b553b"
      },
      "source": [
        "txt=\"Hello Hi california\"\n",
        "x=txt.casefold()\n",
        "print(x)\n"
      ],
      "execution_count": 55,
      "outputs": [
        {
          "output_type": "stream",
          "text": [
            "hello hi california\n"
          ],
          "name": "stdout"
        }
      ]
    },
    {
      "cell_type": "code",
      "metadata": {
        "id": "OGgY1-xUgHkQ",
        "colab_type": "code",
        "colab": {
          "base_uri": "https://localhost:8080/",
          "height": 34
        },
        "outputId": "4fb86c44-12eb-4956-8267-3f876db28a38"
      },
      "source": [
        "txt = \"neha\"\n",
        "x = txt.center(100)\n",
        "print(x)\n"
      ],
      "execution_count": 56,
      "outputs": [
        {
          "output_type": "stream",
          "text": [
            "                                                neha                                                \n"
          ],
          "name": "stdout"
        }
      ]
    },
    {
      "cell_type": "code",
      "metadata": {
        "id": "KF3aCbXZhx4s",
        "colab_type": "code",
        "colab": {
          "base_uri": "https://localhost:8080/",
          "height": 34
        },
        "outputId": "b1de0cf2-a5ef-4171-b8f2-b04e3da968d1"
      },
      "source": [
        "txt = \"neha\"\n",
        "x = txt.center(100,\"*\")\n",
        "print(x)\n"
      ],
      "execution_count": 57,
      "outputs": [
        {
          "output_type": "stream",
          "text": [
            "************************************************neha************************************************\n"
          ],
          "name": "stdout"
        }
      ]
    },
    {
      "cell_type": "code",
      "metadata": {
        "id": "YQyCgHnKhyhc",
        "colab_type": "code",
        "colab": {
          "base_uri": "https://localhost:8080/",
          "height": 34
        },
        "outputId": "8ddf44fe-404a-4a83-9250-03ec692a717c"
      },
      "source": [
        "txt = \"Hello, my name is Neha.\"\n",
        "x = txt.endswith(\"Neha.\")\n",
        "print(x)\n"
      ],
      "execution_count": 58,
      "outputs": [
        {
          "output_type": "stream",
          "text": [
            "True\n"
          ],
          "name": "stdout"
        }
      ]
    },
    {
      "cell_type": "code",
      "metadata": {
        "id": "qk3Q78Q4gH7b",
        "colab_type": "code",
        "colab": {
          "base_uri": "https://localhost:8080/",
          "height": 34
        },
        "outputId": "b3f79fae-0552-49b7-e3fb-62db5aac5d47"
      },
      "source": [
        "txt = \"Hello, my name is Neha.\" \n",
        "x = txt.endswith(\" \")\n",
        "print(x)\n"
      ],
      "execution_count": 59,
      "outputs": [
        {
          "output_type": "stream",
          "text": [
            "False\n"
          ],
          "name": "stdout"
        }
      ]
    },
    {
      "cell_type": "code",
      "metadata": {
        "id": "GlUOeoynkvxY",
        "colab_type": "code",
        "colab": {
          "base_uri": "https://localhost:8080/",
          "height": 34
        },
        "outputId": "3e9931d7-e5ff-4e2f-f612-f1e30d62784a"
      },
      "source": [
        "txt = \"H\\te\\tl\\tl\\to\"\n",
        "x =  txt.expandtabs(2)\n",
        "print(x)\n"
      ],
      "execution_count": 60,
      "outputs": [
        {
          "output_type": "stream",
          "text": [
            "H e l l o\n"
          ],
          "name": "stdout"
        }
      ]
    },
    {
      "cell_type": "code",
      "metadata": {
        "id": "VVJmAcJAkv7p",
        "colab_type": "code",
        "colab": {
          "base_uri": "https://localhost:8080/",
          "height": 85
        },
        "outputId": "8471bd6e-b6ab-453c-ae1a-ac4076487d16"
      },
      "source": [
        "txt = \"H\\te\\tl\\tl\\to\"\n",
        "print(txt)\n",
        "print(txt.expandtabs())\n",
        "print(txt.expandtabs(8))\n",
        "print(txt.expandtabs(3))\n"
      ],
      "execution_count": 61,
      "outputs": [
        {
          "output_type": "stream",
          "text": [
            "H\te\tl\tl\to\n",
            "H       e       l       l       o\n",
            "H       e       l       l       o\n",
            "H  e  l  l  o\n"
          ],
          "name": "stdout"
        }
      ]
    },
    {
      "cell_type": "code",
      "metadata": {
        "id": "LeALZ9G1kwND",
        "colab_type": "code",
        "colab": {
          "base_uri": "https://localhost:8080/",
          "height": 34
        },
        "outputId": "240a8123-3e57-485e-e811-fa6a30940883"
      },
      "source": [
        "txt = \"Hello, my name is Neha.\"\n",
        "x = txt.find(\"Neha\")\n",
        "print(x)\n"
      ],
      "execution_count": 62,
      "outputs": [
        {
          "output_type": "stream",
          "text": [
            "18\n"
          ],
          "name": "stdout"
        }
      ]
    },
    {
      "cell_type": "code",
      "metadata": {
        "id": "Sp_B_54qkwq-",
        "colab_type": "code",
        "colab": {
          "base_uri": "https://localhost:8080/",
          "height": 34
        },
        "outputId": "b9cde9e0-8ff5-4b1a-d861-43c4659bce22"
      },
      "source": [
        "txt = \"Hello, my name is Neha.\"\n",
        "x = txt.find(\"e\")\n",
        "print(x)\n"
      ],
      "execution_count": 63,
      "outputs": [
        {
          "output_type": "stream",
          "text": [
            "1\n"
          ],
          "name": "stdout"
        }
      ]
    },
    {
      "cell_type": "code",
      "metadata": {
        "id": "-_tTG6_zkxKw",
        "colab_type": "code",
        "colab": {
          "base_uri": "https://localhost:8080/",
          "height": 68
        },
        "outputId": "a4e7bee2-f2cd-4efa-f03a-197849a53c42"
      },
      "source": [
        "txt1 = \"My name is {fname}, I'm {age}\".format(fname =\"Neha\", age = 24)\n",
        "txt2 = \"My name is {0}, I'm {1}\".format(\"Neha\",28)\n",
        "txt3 = \"My name is {}, I'm {}\".format(\"Neha\",24)\n",
        "print(txt1)\n",
        "print(txt2)\n",
        "print(txt3)\n"
      ],
      "execution_count": 64,
      "outputs": [
        {
          "output_type": "stream",
          "text": [
            "My name is Neha, I'm 24\n",
            "My name is Neha, I'm 28\n",
            "My name is Neha, I'm 24\n"
          ],
          "name": "stdout"
        }
      ]
    },
    {
      "cell_type": "code",
      "metadata": {
        "id": "0YzY-NYJkxiz",
        "colab_type": "code",
        "colab": {
          "base_uri": "https://localhost:8080/",
          "height": 34
        },
        "outputId": "13dc4be1-e542-4164-8489-c2f92f08e2c7"
      },
      "source": [
        "txt = \"We have {:>10} pens.\"\n",
        "print(txt.format(50))\n"
      ],
      "execution_count": 65,
      "outputs": [
        {
          "output_type": "stream",
          "text": [
            "We have         50 pens.\n"
          ],
          "name": "stdout"
        }
      ]
    },
    {
      "cell_type": "code",
      "metadata": {
        "id": "-9Tv1hdYkxGt",
        "colab_type": "code",
        "colab": {
          "base_uri": "https://localhost:8080/",
          "height": 34
        },
        "outputId": "265921a2-220c-4f13-be08-74cf77f3fa5f"
      },
      "source": [
        "txt = \"We have {:<4} pencils.\"\n",
        "print(txt.format(49))\n"
      ],
      "execution_count": 66,
      "outputs": [
        {
          "output_type": "stream",
          "text": [
            "We have 49   pencils.\n"
          ],
          "name": "stdout"
        }
      ]
    },
    {
      "cell_type": "code",
      "metadata": {
        "id": "xXOJNFTHkxEl",
        "colab_type": "code",
        "colab": {
          "base_uri": "https://localhost:8080/",
          "height": 34
        },
        "outputId": "85fbc2a9-b1f6-497d-8d19-548033259bf4"
      },
      "source": [
        "txt = \"The binary version of {0} is {0:b}\"\n",
        "\n",
        "print(txt.format(64))\n"
      ],
      "execution_count": 67,
      "outputs": [
        {
          "output_type": "stream",
          "text": [
            "The binary version of 64 is 1000000\n"
          ],
          "name": "stdout"
        }
      ]
    },
    {
      "cell_type": "code",
      "metadata": {
        "id": "J2g4zlIIkxBI",
        "colab_type": "code",
        "colab": {
          "base_uri": "https://localhost:8080/",
          "height": 34
        },
        "outputId": "e15b1b51-602a-45ab-f2a3-4e06601e0fc6"
      },
      "source": [
        "txt = \"The binary version of {0} is {0:b}\"\n",
        "\n",
        "print(txt.format(9))\n",
        "\n"
      ],
      "execution_count": 68,
      "outputs": [
        {
          "output_type": "stream",
          "text": [
            "The binary version of 9 is 1001\n"
          ],
          "name": "stdout"
        }
      ]
    },
    {
      "cell_type": "code",
      "metadata": {
        "id": "vzPQ8blakw9e",
        "colab_type": "code",
        "colab": {
          "base_uri": "https://localhost:8080/",
          "height": 34
        },
        "outputId": "4136556b-e7b3-4627-ad7f-c64e5efa165b"
      },
      "source": [
        "txt = \"We have {:E} chickens.\"\n",
        "print(txt.format(100,5))\n"
      ],
      "execution_count": 69,
      "outputs": [
        {
          "output_type": "stream",
          "text": [
            "We have 1.000000E+02 chickens.\n"
          ],
          "name": "stdout"
        }
      ]
    },
    {
      "cell_type": "code",
      "metadata": {
        "id": "IU8_G3Sikw5W",
        "colab_type": "code",
        "colab": {
          "base_uri": "https://localhost:8080/",
          "height": 34
        },
        "outputId": "13bfe973-eff4-4767-dcd3-a2f7bb04cfb4"
      },
      "source": [
        "txt = \"The Hexadecimal version of {0} is {0:X}\"\n",
        "print(txt.format(2811))\n"
      ],
      "execution_count": 70,
      "outputs": [
        {
          "output_type": "stream",
          "text": [
            "The Hexadecimal version of 2811 is AFB\n"
          ],
          "name": "stdout"
        }
      ]
    },
    {
      "cell_type": "code",
      "metadata": {
        "id": "yotwbOKXAIaK",
        "colab_type": "code",
        "colab": {
          "base_uri": "https://localhost:8080/",
          "height": 34
        },
        "outputId": "4d6597b8-d52d-41c1-a717-1d0be1656a62"
      },
      "source": [
        "txt = \"Hello, welcome to my world.\"\n",
        "x = txt.index(\"welcome\")\n",
        "print(x)\n"
      ],
      "execution_count": 71,
      "outputs": [
        {
          "output_type": "stream",
          "text": [
            "7\n"
          ],
          "name": "stdout"
        }
      ]
    },
    {
      "cell_type": "code",
      "metadata": {
        "id": "Os8lpAIrAIX1",
        "colab_type": "code",
        "colab": {
          "base_uri": "https://localhost:8080/",
          "height": 34
        },
        "outputId": "03a4f771-7738-48f2-899d-54ec4193eacd"
      },
      "source": [
        "txt = \"Hello, welcome to my world.\"\n",
        "x = txt.index(\"e\", 5, 10)\n",
        "print(x)\n"
      ],
      "execution_count": 72,
      "outputs": [
        {
          "output_type": "stream",
          "text": [
            "8\n"
          ],
          "name": "stdout"
        }
      ]
    },
    {
      "cell_type": "code",
      "metadata": {
        "id": "2SGnfbWXAIVq",
        "colab_type": "code",
        "colab": {
          "base_uri": "https://localhost:8080/",
          "height": 34
        },
        "outputId": "75c6181a-c629-4136-9d7d-809e0d1fa424"
      },
      "source": [
        "txt = \"Neha20\"\n",
        "x = txt.isalnum()\n",
        "print(x)\n"
      ],
      "execution_count": 73,
      "outputs": [
        {
          "output_type": "stream",
          "text": [
            "True\n"
          ],
          "name": "stdout"
        }
      ]
    },
    {
      "cell_type": "code",
      "metadata": {
        "id": "L9AhBAKYAITc",
        "colab_type": "code",
        "colab": {
          "base_uri": "https://localhost:8080/",
          "height": 34
        },
        "outputId": "7a91a1ce-b45b-48d1-94ea-39ce31c2e6f0"
      },
      "source": [
        "txt = \"Neha 20\"\n",
        "x = txt.isalnum()\n",
        "print(x)\n"
      ],
      "execution_count": 74,
      "outputs": [
        {
          "output_type": "stream",
          "text": [
            "False\n"
          ],
          "name": "stdout"
        }
      ]
    },
    {
      "cell_type": "code",
      "metadata": {
        "id": "CXK7hJebAIPb",
        "colab_type": "code",
        "colab": {
          "base_uri": "https://localhost:8080/",
          "height": 34
        },
        "outputId": "f950644c-9053-49f5-eec1-5165326fea66"
      },
      "source": [
        "txt = \"NehaC\"\n",
        "x = txt.isalpha()\n",
        "print(x)\n"
      ],
      "execution_count": 75,
      "outputs": [
        {
          "output_type": "stream",
          "text": [
            "True\n"
          ],
          "name": "stdout"
        }
      ]
    },
    {
      "cell_type": "code",
      "metadata": {
        "id": "CcrNBb_kAIJi",
        "colab_type": "code",
        "colab": {
          "base_uri": "https://localhost:8080/",
          "height": 34
        },
        "outputId": "db116b1f-2a30-4528-c365-96d3b6260454"
      },
      "source": [
        "txt = \"Neha@\"\n",
        "x = txt.isalpha()\n",
        "print(x)\n"
      ],
      "execution_count": 76,
      "outputs": [
        {
          "output_type": "stream",
          "text": [
            "False\n"
          ],
          "name": "stdout"
        }
      ]
    },
    {
      "cell_type": "code",
      "metadata": {
        "id": "f0HixONeAIEu",
        "colab_type": "code",
        "colab": {
          "base_uri": "https://localhost:8080/",
          "height": 51
        },
        "outputId": "b6888bd6-2449-4069-9e84-da3432f1d48d"
      },
      "source": [
        "a = \"\\u0030\" #unicode for 0\n",
        "b = \"\\u0047\" #unicode for G\n",
        "print(a.isdecimal())\n",
        "print(b.isdecimal())\n"
      ],
      "execution_count": 77,
      "outputs": [
        {
          "output_type": "stream",
          "text": [
            "True\n",
            "False\n"
          ],
          "name": "stdout"
        }
      ]
    },
    {
      "cell_type": "code",
      "metadata": {
        "id": "EkUk3sfukwm5",
        "colab_type": "code",
        "colab": {
          "base_uri": "https://localhost:8080/",
          "height": 51
        },
        "outputId": "3dc42f5c-7b71-4cbf-f8ba-e56fb3fbd3f0"
      },
      "source": [
        "a = \"\\u0038\" #unicode for 0\n",
        "b = \"\\u0038\" #unicode for 0\n",
        "print(a.isdecimal())\n",
        "print(b.isdecimal())\n"
      ],
      "execution_count": 78,
      "outputs": [
        {
          "output_type": "stream",
          "text": [
            "True\n",
            "True\n"
          ],
          "name": "stdout"
        }
      ]
    },
    {
      "cell_type": "code",
      "metadata": {
        "id": "2KHugG7Gkwkz",
        "colab_type": "code",
        "colab": {
          "base_uri": "https://localhost:8080/",
          "height": 34
        },
        "outputId": "7ef2cc34-01e2-4149-e237-a0c260dbfbea"
      },
      "source": [
        "txt = \"50800\"\n",
        "x = txt.isdigit()\n",
        "print(x)\n"
      ],
      "execution_count": 79,
      "outputs": [
        {
          "output_type": "stream",
          "text": [
            "True\n"
          ],
          "name": "stdout"
        }
      ]
    },
    {
      "cell_type": "code",
      "metadata": {
        "id": "s3iOFig_kwir",
        "colab_type": "code",
        "colab": {
          "base_uri": "https://localhost:8080/",
          "height": 34
        },
        "outputId": "eb2a045c-c62e-42f3-8007-d9adf45e9ee1"
      },
      "source": [
        "txt = \"hello\"\n",
        "x = txt.isdigit()\n",
        "print(x)\n"
      ],
      "execution_count": 80,
      "outputs": [
        {
          "output_type": "stream",
          "text": [
            "False\n"
          ],
          "name": "stdout"
        }
      ]
    },
    {
      "cell_type": "code",
      "metadata": {
        "id": "OHKTbML1kwgz",
        "colab_type": "code",
        "colab": {
          "base_uri": "https://localhost:8080/",
          "height": 51
        },
        "outputId": "a8169b52-1eab-48da-bc28-87d627bb2032"
      },
      "source": [
        "a = \"\\u0030\" #unicode for 0\n",
        "b = \"\\u00B2\" #unicode for ²\n",
        "print(a.isdigit())\n",
        "print(b.isdigit())\n"
      ],
      "execution_count": 81,
      "outputs": [
        {
          "output_type": "stream",
          "text": [
            "True\n",
            "True\n"
          ],
          "name": "stdout"
        }
      ]
    },
    {
      "cell_type": "code",
      "metadata": {
        "id": "bEBfryzjkweM",
        "colab_type": "code",
        "colab": {
          "base_uri": "https://localhost:8080/",
          "height": 34
        },
        "outputId": "b2fe0500-b69e-45e3-8c6e-58c8c59a9378"
      },
      "source": [
        "txt = \"int\"\n",
        "x = txt.isidentifier()\n",
        "print(x)\n"
      ],
      "execution_count": 82,
      "outputs": [
        {
          "output_type": "stream",
          "text": [
            "True\n"
          ],
          "name": "stdout"
        }
      ]
    },
    {
      "cell_type": "code",
      "metadata": {
        "id": "Jr7rzoWYkwbb",
        "colab_type": "code",
        "colab": {
          "base_uri": "https://localhost:8080/",
          "height": 34
        },
        "outputId": "b6ec08cd-9664-49a2-fec5-85d49a6aa55c"
      },
      "source": [
        "txt = \"2Demo2\"\n",
        "x = txt.isidentifier()\n",
        "print(x)\n"
      ],
      "execution_count": 83,
      "outputs": [
        {
          "output_type": "stream",
          "text": [
            "False\n"
          ],
          "name": "stdout"
        }
      ]
    },
    {
      "cell_type": "code",
      "metadata": {
        "id": "BwpPjspqkwXJ",
        "colab_type": "code",
        "colab": {
          "base_uri": "https://localhost:8080/",
          "height": 85
        },
        "outputId": "e4afbf5b-6469-4d78-e5eb-df8bd8525e3b"
      },
      "source": [
        "a = \"neha\"\n",
        "b = \"float\"\n",
        "c = \"2dict\"\n",
        "d = \"_hi\"\n",
        "\n",
        "print(a.isidentifier())\n",
        "print(b.isidentifier())\n",
        "print(c.isidentifier())\n",
        "print(d.isidentifier())\n"
      ],
      "execution_count": 84,
      "outputs": [
        {
          "output_type": "stream",
          "text": [
            "True\n",
            "True\n",
            "False\n",
            "True\n"
          ],
          "name": "stdout"
        }
      ]
    },
    {
      "cell_type": "code",
      "metadata": {
        "id": "qz9IxiljBDtG",
        "colab_type": "code",
        "colab": {
          "base_uri": "https://localhost:8080/",
          "height": 34
        },
        "outputId": "77f04cf7-2769-4394-8467-8cc2348210c2"
      },
      "source": [
        "txt = \"hello world!\"\n",
        "x = txt.islower()\n",
        "print(x)\n"
      ],
      "execution_count": 85,
      "outputs": [
        {
          "output_type": "stream",
          "text": [
            "True\n"
          ],
          "name": "stdout"
        }
      ]
    },
    {
      "cell_type": "code",
      "metadata": {
        "id": "pRSwBQnYBEBA",
        "colab_type": "code",
        "colab": {
          "base_uri": "https://localhost:8080/",
          "height": 34
        },
        "outputId": "5ed8761b-dc15-4f53-f378-fef517d57fec"
      },
      "source": [
        "txt = \"Hello World!\"\n",
        "x = txt.islower()\n",
        "print(x)\n"
      ],
      "execution_count": 86,
      "outputs": [
        {
          "output_type": "stream",
          "text": [
            "False\n"
          ],
          "name": "stdout"
        }
      ]
    },
    {
      "cell_type": "code",
      "metadata": {
        "id": "yqrcnRhhBEkv",
        "colab_type": "code",
        "colab": {
          "base_uri": "https://localhost:8080/",
          "height": 68
        },
        "outputId": "e1414248-abfb-492c-faf1-2dc8f69a78d7"
      },
      "source": [
        "a = \"Neha\"\n",
        "b = \"neha 123\"\n",
        "c = \"mynameisNeha\"\n",
        "print(a.islower())\n",
        "print(b.islower())\n",
        "print(c.islower())\n"
      ],
      "execution_count": 87,
      "outputs": [
        {
          "output_type": "stream",
          "text": [
            "False\n",
            "True\n",
            "False\n"
          ],
          "name": "stdout"
        }
      ]
    },
    {
      "cell_type": "code",
      "metadata": {
        "id": "vLaqy4w7BffI",
        "colab_type": "code",
        "colab": {
          "base_uri": "https://localhost:8080/",
          "height": 68
        },
        "outputId": "0417e79d-fe47-4968-b8ba-7fc5e7678f17"
      },
      "source": [
        "a = \"Neha\"\n",
        "b = \"neha 123\"\n",
        "c = \"mynameisNeha\"\n",
        "\n",
        "print(a.lower())\n",
        "print(b.lower())\n",
        "print(c.lower())\n"
      ],
      "execution_count": 88,
      "outputs": [
        {
          "output_type": "stream",
          "text": [
            "neha\n",
            "neha 123\n",
            "mynameisneha\n"
          ],
          "name": "stdout"
        }
      ]
    },
    {
      "cell_type": "code",
      "metadata": {
        "id": "B9ODLSUWBfyf",
        "colab_type": "code",
        "colab": {
          "base_uri": "https://localhost:8080/",
          "height": 34
        },
        "outputId": "80289c52-2db5-46d4-9cb6-2032b588bdf7"
      },
      "source": [
        "txt = \"Hello! Are you #1?\"\n",
        "x = txt.isprintable()\n",
        "print(x)\n",
        "\n"
      ],
      "execution_count": 89,
      "outputs": [
        {
          "output_type": "stream",
          "text": [
            "True\n"
          ],
          "name": "stdout"
        }
      ]
    },
    {
      "cell_type": "code",
      "metadata": {
        "id": "hyPZYSXGBgzY",
        "colab_type": "code",
        "colab": {
          "base_uri": "https://localhost:8080/",
          "height": 34
        },
        "outputId": "a657947c-6e0d-4eee-daf1-25d14656fc04"
      },
      "source": [
        "txt = \"Hello!\\nAre you #1?\"\n",
        "x = txt.isprintable()\n",
        "print(x)\n"
      ],
      "execution_count": 90,
      "outputs": [
        {
          "output_type": "stream",
          "text": [
            "False\n"
          ],
          "name": "stdout"
        }
      ]
    },
    {
      "cell_type": "code",
      "metadata": {
        "id": "pidz9Gq-BhKU",
        "colab_type": "code",
        "colab": {
          "base_uri": "https://localhost:8080/",
          "height": 34
        },
        "outputId": "86a331d1-e71a-40f6-98d8-277c86962669"
      },
      "source": [
        "txt = \"   \"\n",
        "x = txt.isspace()\n",
        "print(x)\n"
      ],
      "execution_count": 91,
      "outputs": [
        {
          "output_type": "stream",
          "text": [
            "True\n"
          ],
          "name": "stdout"
        }
      ]
    },
    {
      "cell_type": "code",
      "metadata": {
        "id": "TkcMIiJXBhcA",
        "colab_type": "code",
        "colab": {
          "base_uri": "https://localhost:8080/",
          "height": 34
        },
        "outputId": "18d7d45b-cfc3-41c8-8566-0f9acc11725a"
      },
      "source": [
        "txt = \"  dd \"\n",
        "x = txt.isspace()\n",
        "print(x)\t\n"
      ],
      "execution_count": 92,
      "outputs": [
        {
          "output_type": "stream",
          "text": [
            "False\n"
          ],
          "name": "stdout"
        }
      ]
    },
    {
      "cell_type": "code",
      "metadata": {
        "id": "Xr5VOFG6BhvB",
        "colab_type": "code",
        "colab": {
          "base_uri": "https://localhost:8080/",
          "height": 34
        },
        "outputId": "eefd7147-de45-4190-d436-23cef0834ea1"
      },
      "source": [
        "txt = \"Hello, I Am Neha\"\n",
        "x = txt.istitle()\n",
        "print(x)\n"
      ],
      "execution_count": 93,
      "outputs": [
        {
          "output_type": "stream",
          "text": [
            "True\n"
          ],
          "name": "stdout"
        }
      ]
    },
    {
      "cell_type": "code",
      "metadata": {
        "id": "u-Fw-UyOBiAP",
        "colab_type": "code",
        "colab": {
          "base_uri": "https://localhost:8080/",
          "height": 34
        },
        "outputId": "a307fd61-f139-4430-e401-2a01c13e3406"
      },
      "source": [
        "txt = \"Hello, i am Neha\"\n",
        "x = txt.istitle()\n",
        "print(x)\n"
      ],
      "execution_count": 94,
      "outputs": [
        {
          "output_type": "stream",
          "text": [
            "False\n"
          ],
          "name": "stdout"
        }
      ]
    },
    {
      "cell_type": "code",
      "metadata": {
        "id": "RxUOGtOiBiPs",
        "colab_type": "code",
        "colab": {
          "base_uri": "https://localhost:8080/",
          "height": 85
        },
        "outputId": "e649e380-85b3-4366-9406-c9daa8a65678"
      },
      "source": [
        "a = \"HELLO, AND WELCOME \"\n",
        "b = \"Hello\"\n",
        "c = \"22 Hello\"\n",
        "d = \"This Is %d Neha!?\"\n",
        "\n",
        "print(a.istitle())\n",
        "print(b.istitle())\n",
        "print(c.istitle())\n",
        "print(d.istitle())\n"
      ],
      "execution_count": 95,
      "outputs": [
        {
          "output_type": "stream",
          "text": [
            "False\n",
            "True\n",
            "True\n",
            "False\n"
          ],
          "name": "stdout"
        }
      ]
    },
    {
      "cell_type": "code",
      "metadata": {
        "id": "76s957E0BhrG",
        "colab_type": "code",
        "colab": {
          "base_uri": "https://localhost:8080/",
          "height": 68
        },
        "outputId": "fec348cc-78ee-4b3e-858e-a36f82c7ff63"
      },
      "source": [
        "a = \"Hello Everyine!\"\n",
        "b = \"hello HI\"\n",
        "c = \"MY NAME IS NEHA\"\n",
        "\n",
        "print(a.isupper())\n",
        "print(b.isupper())\n",
        "print(c.isupper())\n"
      ],
      "execution_count": 96,
      "outputs": [
        {
          "output_type": "stream",
          "text": [
            "False\n",
            "False\n",
            "True\n"
          ],
          "name": "stdout"
        }
      ]
    },
    {
      "cell_type": "code",
      "metadata": {
        "id": "6HDVV6XDBhGm",
        "colab_type": "code",
        "colab": {
          "base_uri": "https://localhost:8080/",
          "height": 34
        },
        "outputId": "6f371314-e57b-47e7-811e-17284c70393c"
      },
      "source": [
        "tuple = (\"neha\",\"prameela\",\"sindhu\", \"samyuktha\")\n",
        "x =\" # \".join(tuple)\n",
        "print(x)\n",
        "\n"
      ],
      "execution_count": 97,
      "outputs": [
        {
          "output_type": "stream",
          "text": [
            "neha # prameela # sindhu # samyuktha\n"
          ],
          "name": "stdout"
        }
      ]
    },
    {
      "cell_type": "code",
      "metadata": {
        "id": "_YP2PG27BhCo",
        "colab_type": "code",
        "colab": {
          "base_uri": "https://localhost:8080/",
          "height": 34
        },
        "outputId": "194edd48-b2d0-4747-a698-26f5fc57606e"
      },
      "source": [
        "myDict = {\"name\": \"Neha\", \"country\": \"India\"}\n",
        "mySeparator = \" \"\n",
        "x = mySeparator.join(myDict)\n",
        "print(x)"
      ],
      "execution_count": 98,
      "outputs": [
        {
          "output_type": "stream",
          "text": [
            "name country\n"
          ],
          "name": "stdout"
        }
      ]
    },
    {
      "cell_type": "code",
      "metadata": {
        "id": "ieb6U7lxBgsE",
        "colab_type": "code",
        "colab": {
          "base_uri": "https://localhost:8080/",
          "height": 34
        },
        "outputId": "415778fa-8c97-471b-87c0-a2cf2fa4a5e3"
      },
      "source": [
        "txt = \"volleyBall\"\n",
        "x = txt.ljust(10)\n",
        "print(x, \"is my favorite sport.\")\n"
      ],
      "execution_count": 99,
      "outputs": [
        {
          "output_type": "stream",
          "text": [
            "volleyBall is my favorite sport.\n"
          ],
          "name": "stdout"
        }
      ]
    },
    {
      "cell_type": "code",
      "metadata": {
        "id": "ZuxGNQpNBgfE",
        "colab_type": "code",
        "colab": {
          "base_uri": "https://localhost:8080/",
          "height": 34
        },
        "outputId": "0a576163-80a8-483f-c076-aa984315ed36"
      },
      "source": [
        "txt = \" volleyBall  \"\n",
        "x = txt.lstrip()\n",
        "print(\"Of all sports\",x,\"is my favorite\")\n"
      ],
      "execution_count": 100,
      "outputs": [
        {
          "output_type": "stream",
          "text": [
            "Of all sports volleyBall   is my favorite\n"
          ],
          "name": "stdout"
        }
      ]
    },
    {
      "cell_type": "code",
      "metadata": {
        "id": "Dg7QSpz1BgZF",
        "colab_type": "code",
        "colab": {
          "base_uri": "https://localhost:8080/",
          "height": 34
        },
        "outputId": "830be583-0e8e-4f41-ee0e-b30ca8e6babb"
      },
      "source": [
        "txt = \",,,,,ssaaww.....banana\"\n",
        "x = txt.lstrip(\",.asw\")\n",
        "print(x)\n"
      ],
      "execution_count": 101,
      "outputs": [
        {
          "output_type": "stream",
          "text": [
            "banana\n"
          ],
          "name": "stdout"
        }
      ]
    },
    {
      "cell_type": "code",
      "metadata": {
        "id": "QVwPp3kGBgV7",
        "colab_type": "code",
        "colab": {
          "base_uri": "https://localhost:8080/",
          "height": 51
        },
        "outputId": "7129c43f-ebec-4e7a-d8e1-4a9bf3a919aa"
      },
      "source": [
        "a=\"python is a interpreted language\"\n",
        "print(a.partition(\"is\"))\n",
        "print(a.partition(\"il\"))\n"
      ],
      "execution_count": 102,
      "outputs": [
        {
          "output_type": "stream",
          "text": [
            "('python ', 'is', ' a interpreted language')\n",
            "('python is a interpreted language', '', '')\n"
          ],
          "name": "stdout"
        }
      ]
    },
    {
      "cell_type": "code",
      "metadata": {
        "id": "YhisGxbLBgSc",
        "colab_type": "code",
        "colab": {
          "base_uri": "https://localhost:8080/",
          "height": 51
        },
        "outputId": "1be8729c-1198-4ec9-a22f-7bcdf7526add"
      },
      "source": [
        "a=\"python is a interpreted language\"\n",
        "print(a.rsplit())\n",
        "print(a.rsplit(\",\"))\n"
      ],
      "execution_count": 103,
      "outputs": [
        {
          "output_type": "stream",
          "text": [
            "['python', 'is', 'a', 'interpreted', 'language']\n",
            "['python is a interpreted language']\n"
          ],
          "name": "stdout"
        }
      ]
    },
    {
      "cell_type": "code",
      "metadata": {
        "id": "UR34yBeyBgO6",
        "colab_type": "code",
        "colab": {
          "base_uri": "https://localhost:8080/",
          "height": 34
        },
        "outputId": "57c232d5-0588-4cd7-e04c-075e234029cb"
      },
      "source": [
        "a=\"Get started with C\"\n",
        "print(a.replace(\"C\",\"Python\"))\n"
      ],
      "execution_count": 104,
      "outputs": [
        {
          "output_type": "stream",
          "text": [
            "Get started with Python\n"
          ],
          "name": "stdout"
        }
      ]
    },
    {
      "cell_type": "code",
      "metadata": {
        "id": "_qml6PE6BgL8",
        "colab_type": "code",
        "colab": {
          "base_uri": "https://localhost:8080/",
          "height": 68
        },
        "outputId": "f5b66cc4-fd52-469d-cf53-b96c36c07ca8"
      },
      "source": [
        "a=\"Python is  a Programming Language\"\n",
        "print(a.rindex(\"a\"))\n",
        "print(a.rindex(\"P\"))\n",
        "print(a.index(\"P\"))  \n"
      ],
      "execution_count": 105,
      "outputs": [
        {
          "output_type": "stream",
          "text": [
            "30\n",
            "13\n",
            "0\n"
          ],
          "name": "stdout"
        }
      ]
    },
    {
      "cell_type": "code",
      "metadata": {
        "id": "iaEKlrbOBgJm",
        "colab_type": "code",
        "colab": {
          "base_uri": "https://localhost:8080/",
          "height": 51
        },
        "outputId": "8daac41d-5c52-474a-fb8c-8a4501853267"
      },
      "source": [
        "a=\"Python is  a Programming Language\"\n",
        "print(a.rfind(\"P\"))\n",
        "print(a.find(\"P\"))\n"
      ],
      "execution_count": 106,
      "outputs": [
        {
          "output_type": "stream",
          "text": [
            "13\n",
            "0\n"
          ],
          "name": "stdout"
        }
      ]
    },
    {
      "cell_type": "code",
      "metadata": {
        "id": "Kqe59n0IBgG0",
        "colab_type": "code",
        "colab": {
          "base_uri": "https://localhost:8080/",
          "height": 51
        },
        "outputId": "289700c7-0606-4b63-a7c9-504146f362d4"
      },
      "source": [
        "a=\"Python is  a Programming Language\"\n",
        "print(a.rjust(40))\n",
        "print(a.rjust(100))\n"
      ],
      "execution_count": 107,
      "outputs": [
        {
          "output_type": "stream",
          "text": [
            "       Python is  a Programming Language\n",
            "                                                                   Python is  a Programming Language\n"
          ],
          "name": "stdout"
        }
      ]
    },
    {
      "cell_type": "code",
      "metadata": {
        "id": "H0P_GLSABgDs",
        "colab_type": "code",
        "colab": {
          "base_uri": "https://localhost:8080/",
          "height": 34
        },
        "outputId": "99123ecc-be26-4341-daf4-01f3e49abe43"
      },
      "source": [
        "a=\"Python is  a Interpreted Language\"\n",
        "print(a.swapcase())\n"
      ],
      "execution_count": 108,
      "outputs": [
        {
          "output_type": "stream",
          "text": [
            "pYTHON IS  A iNTERPRETED lANGUAGE\n"
          ],
          "name": "stdout"
        }
      ]
    },
    {
      "cell_type": "code",
      "metadata": {
        "id": "Smrae91jBf-w",
        "colab_type": "code",
        "colab": {
          "base_uri": "https://localhost:8080/",
          "height": 51
        },
        "outputId": "e0b778c5-f344-4d87-92ff-48831cfb260f"
      },
      "source": [
        "a=\"hai hello\"\n",
        "print(a.maketrans(\"h\",\"p\"))\n",
        "b=a.maketrans(\"h\",\"p\")\n",
        "print(a.translate(b))\n"
      ],
      "execution_count": 109,
      "outputs": [
        {
          "output_type": "stream",
          "text": [
            "{104: 112}\n",
            "pai pello\n"
          ],
          "name": "stdout"
        }
      ]
    },
    {
      "cell_type": "code",
      "metadata": {
        "id": "3RRtx6DgBPX_",
        "colab_type": "code",
        "colab": {
          "base_uri": "https://localhost:8080/",
          "height": 51
        },
        "outputId": "b7b05f04-1c90-469e-8da6-551fe14cb10f"
      },
      "source": [
        "a=\"hello\"\n",
        "print(a.zfill(10))\n",
        "a=\"hai\"\n",
        "print(a.zfill(10))\n"
      ],
      "execution_count": 110,
      "outputs": [
        {
          "output_type": "stream",
          "text": [
            "00000hello\n",
            "0000000hai\n"
          ],
          "name": "stdout"
        }
      ]
    },
    {
      "cell_type": "code",
      "metadata": {
        "id": "7K7AHywaBP3P",
        "colab_type": "code",
        "colab": {}
      },
      "source": [
        ""
      ],
      "execution_count": 110,
      "outputs": []
    },
    {
      "cell_type": "code",
      "metadata": {
        "id": "2F01WOgIBPv7",
        "colab_type": "code",
        "colab": {}
      },
      "source": [
        ""
      ],
      "execution_count": 110,
      "outputs": []
    }
  ]
}